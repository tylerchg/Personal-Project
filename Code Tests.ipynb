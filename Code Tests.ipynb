{
 "cells": [
  {
   "cell_type": "code",
   "execution_count": 1,
   "id": "0be035db-71ec-4819-a5df-076f05c47acb",
   "metadata": {
    "tags": []
   },
   "outputs": [],
   "source": [
    "import pandas as pd\n",
    "import numpy as np\n",
    "import matplotlib.pyplot as plt\n",
    "import yfinance as yf"
   ]
  },
  {
   "cell_type": "code",
   "execution_count": 2,
   "id": "55432a29-ac01-4ad7-adf6-87bcd4ff03ea",
   "metadata": {},
   "outputs": [
    {
     "name": "stdout",
     "output_type": "stream",
     "text": [
      "<class 'pandas.core.frame.DataFrame'>\n",
      "RangeIndex: 203 entries, 0 to 202\n",
      "Data columns (total 14 columns):\n",
      " #   Column    Non-Null Count  Dtype  \n",
      "---  ------    --------------  -----  \n",
      " 0   year      203 non-null    float64\n",
      " 1   quarter   203 non-null    float64\n",
      " 2   realgdp   203 non-null    float64\n",
      " 3   realcons  203 non-null    float64\n",
      " 4   realinv   203 non-null    float64\n",
      " 5   realgovt  203 non-null    float64\n",
      " 6   realdpi   203 non-null    float64\n",
      " 7   cpi       203 non-null    float64\n",
      " 8   m1        203 non-null    float64\n",
      " 9   tbilrate  203 non-null    float64\n",
      " 10  unemp     203 non-null    float64\n",
      " 11  pop       203 non-null    float64\n",
      " 12  infl      203 non-null    float64\n",
      " 13  realint   203 non-null    float64\n",
      "dtypes: float64(14)\n",
      "memory usage: 22.3 KB\n"
     ]
    }
   ],
   "source": [
    "data = pd.read_csv('macrodata-2.csv')\n",
    "data.info()"
   ]
  },
  {
   "cell_type": "code",
   "execution_count": 3,
   "id": "a97cf32e-fdf7-441c-958d-d7e2cdef6502",
   "metadata": {
    "tags": []
   },
   "outputs": [
    {
     "data": {
      "text/plain": [
       "PeriodIndex(['1959Q1', '1959Q2', '1959Q3', '1959Q4', '1960Q1', '1960Q2',\n",
       "             '1960Q3', '1960Q4', '1961Q1', '1961Q2',\n",
       "             ...\n",
       "             '2007Q2', '2007Q3', '2007Q4', '2008Q1', '2008Q2', '2008Q3',\n",
       "             '2008Q4', '2009Q1', '2009Q2', '2009Q3'],\n",
       "            dtype='period[Q-DEC]', name='date', length=203)"
      ]
     },
     "execution_count": 3,
     "metadata": {},
     "output_type": "execute_result"
    }
   ],
   "source": [
    "periods = pd.PeriodIndex(year = data.year, quarter = data.quarter, name = 'date')\n",
    "\n",
    "periods"
   ]
  },
  {
   "cell_type": "code",
   "execution_count": 4,
   "id": "504322a9-39a7-4d77-9a54-722e9c3d67ca",
   "metadata": {
    "tags": []
   },
   "outputs": [
    {
     "data": {
      "text/plain": [
       "DatetimeIndex(['1959-01-01', '1959-04-01', '1959-07-01', '1959-10-01',\n",
       "               '1960-01-01', '1960-04-01', '1960-07-01', '1960-10-01',\n",
       "               '1961-01-01', '1961-04-01',\n",
       "               ...\n",
       "               '2007-04-01', '2007-07-01', '2007-10-01', '2008-01-01',\n",
       "               '2008-04-01', '2008-07-01', '2008-10-01', '2009-01-01',\n",
       "               '2009-04-01', '2009-07-01'],\n",
       "              dtype='datetime64[ns]', name='date', length=203, freq='QS-OCT')"
      ]
     },
     "execution_count": 4,
     "metadata": {},
     "output_type": "execute_result"
    }
   ],
   "source": [
    "periods.to_timestamp('D', 'start')"
   ]
  },
  {
   "cell_type": "code",
   "execution_count": 5,
   "id": "fd8d0518-45d7-421e-a5bf-832f3eac0862",
   "metadata": {
    "tags": []
   },
   "outputs": [
    {
     "data": {
      "text/plain": [
       "RangeIndex(start=0, stop=203, step=1)"
      ]
     },
     "execution_count": 5,
     "metadata": {},
     "output_type": "execute_result"
    }
   ],
   "source": [
    "data.index"
   ]
  },
  {
   "cell_type": "code",
   "execution_count": 6,
   "id": "9a807ac3-5e34-4c24-9043-d13a4e309932",
   "metadata": {
    "tags": []
   },
   "outputs": [],
   "source": [
    "data.index = periods.to_timestamp('D', 'start')"
   ]
  },
  {
   "cell_type": "code",
   "execution_count": 7,
   "id": "3edd1141-a055-4ac1-b860-c1a3b399716d",
   "metadata": {
    "tags": []
   },
   "outputs": [
    {
     "data": {
      "text/plain": [
       "Index(['realgdp', 'realcons', 'realinv', 'cpi', 'unemp', 'infl', 'realint'], dtype='object', name='item')"
      ]
     },
     "execution_count": 7,
     "metadata": {},
     "output_type": "execute_result"
    }
   ],
   "source": [
    "columns = pd.Index(['realgdp', 'realcons', 'realinv', 'cpi', 'unemp', 'infl', 'realint'], name = 'item')\n",
    "\n",
    "columns"
   ]
  },
  {
   "cell_type": "code",
   "execution_count": 8,
   "id": "5a4e18e6-84d1-443e-8edd-798eb8e420ac",
   "metadata": {
    "tags": []
   },
   "outputs": [
    {
     "data": {
      "text/html": [
       "<div>\n",
       "<style scoped>\n",
       "    .dataframe tbody tr th:only-of-type {\n",
       "        vertical-align: middle;\n",
       "    }\n",
       "\n",
       "    .dataframe tbody tr th {\n",
       "        vertical-align: top;\n",
       "    }\n",
       "\n",
       "    .dataframe thead th {\n",
       "        text-align: right;\n",
       "    }\n",
       "</style>\n",
       "<table border=\"1\" class=\"dataframe\">\n",
       "  <thead>\n",
       "    <tr style=\"text-align: right;\">\n",
       "      <th>item</th>\n",
       "      <th>realgdp</th>\n",
       "      <th>realcons</th>\n",
       "      <th>realinv</th>\n",
       "      <th>cpi</th>\n",
       "      <th>unemp</th>\n",
       "      <th>infl</th>\n",
       "      <th>realint</th>\n",
       "    </tr>\n",
       "    <tr>\n",
       "      <th>date</th>\n",
       "      <th></th>\n",
       "      <th></th>\n",
       "      <th></th>\n",
       "      <th></th>\n",
       "      <th></th>\n",
       "      <th></th>\n",
       "      <th></th>\n",
       "    </tr>\n",
       "  </thead>\n",
       "  <tbody>\n",
       "    <tr>\n",
       "      <th>1959-01-01</th>\n",
       "      <td>2710.349</td>\n",
       "      <td>1707.4</td>\n",
       "      <td>286.898</td>\n",
       "      <td>28.98</td>\n",
       "      <td>5.8</td>\n",
       "      <td>0.00</td>\n",
       "      <td>0.00</td>\n",
       "    </tr>\n",
       "    <tr>\n",
       "      <th>1959-04-01</th>\n",
       "      <td>2778.801</td>\n",
       "      <td>1733.7</td>\n",
       "      <td>310.859</td>\n",
       "      <td>29.15</td>\n",
       "      <td>5.1</td>\n",
       "      <td>2.34</td>\n",
       "      <td>0.74</td>\n",
       "    </tr>\n",
       "    <tr>\n",
       "      <th>1959-07-01</th>\n",
       "      <td>2775.488</td>\n",
       "      <td>1751.8</td>\n",
       "      <td>289.226</td>\n",
       "      <td>29.35</td>\n",
       "      <td>5.3</td>\n",
       "      <td>2.74</td>\n",
       "      <td>1.09</td>\n",
       "    </tr>\n",
       "    <tr>\n",
       "      <th>1959-10-01</th>\n",
       "      <td>2785.204</td>\n",
       "      <td>1753.7</td>\n",
       "      <td>299.356</td>\n",
       "      <td>29.37</td>\n",
       "      <td>5.6</td>\n",
       "      <td>0.27</td>\n",
       "      <td>4.06</td>\n",
       "    </tr>\n",
       "    <tr>\n",
       "      <th>1960-01-01</th>\n",
       "      <td>2847.699</td>\n",
       "      <td>1770.5</td>\n",
       "      <td>331.722</td>\n",
       "      <td>29.54</td>\n",
       "      <td>5.2</td>\n",
       "      <td>2.31</td>\n",
       "      <td>1.19</td>\n",
       "    </tr>\n",
       "  </tbody>\n",
       "</table>\n",
       "</div>"
      ],
      "text/plain": [
       "item         realgdp  realcons  realinv    cpi  unemp  infl  realint\n",
       "date                                                                \n",
       "1959-01-01  2710.349    1707.4  286.898  28.98    5.8  0.00     0.00\n",
       "1959-04-01  2778.801    1733.7  310.859  29.15    5.1  2.34     0.74\n",
       "1959-07-01  2775.488    1751.8  289.226  29.35    5.3  2.74     1.09\n",
       "1959-10-01  2785.204    1753.7  299.356  29.37    5.6  0.27     4.06\n",
       "1960-01-01  2847.699    1770.5  331.722  29.54    5.2  2.31     1.19"
      ]
     },
     "execution_count": 8,
     "metadata": {},
     "output_type": "execute_result"
    }
   ],
   "source": [
    "data = data.reindex(columns = columns)\n",
    "\n",
    "data.head()"
   ]
  },
  {
   "cell_type": "code",
   "execution_count": 9,
   "id": "ac3c7788-6012-40f1-9a65-0421caf73672",
   "metadata": {
    "tags": []
   },
   "outputs": [
    {
     "data": {
      "text/plain": [
       "date        item    \n",
       "1959-01-01  realgdp     2710.349\n",
       "            realcons    1707.400\n",
       "            realinv      286.898\n",
       "            cpi           28.980\n",
       "            unemp          5.800\n",
       "            infl           0.000\n",
       "            realint        0.000\n",
       "1959-04-01  realgdp     2778.801\n",
       "            realcons    1733.700\n",
       "            realinv      310.859\n",
       "dtype: float64"
      ]
     },
     "execution_count": 9,
     "metadata": {},
     "output_type": "execute_result"
    }
   ],
   "source": [
    "data.stack().head(10)"
   ]
  },
  {
   "cell_type": "code",
   "execution_count": 15,
   "id": "4701fe4d-eaf1-4959-b1f8-452d7552d1dc",
   "metadata": {
    "tags": []
   },
   "outputs": [
    {
     "ename": "ValueError",
     "evalue": "iLocation based boolean indexing cannot use an indexable as a mask",
     "output_type": "error",
     "traceback": [
      "\u001b[0;31m---------------------------------------------------------------------------\u001b[0m",
      "\u001b[0;31mValueError\u001b[0m                                Traceback (most recent call last)",
      "Cell \u001b[0;32mIn[15], line 1\u001b[0m\n\u001b[0;32m----> 1\u001b[0m \u001b[43mdata\u001b[49m\u001b[38;5;241;43m.\u001b[39;49m\u001b[43miloc\u001b[49m\u001b[43m[\u001b[49m\u001b[43mdata\u001b[49m\u001b[38;5;241;43m.\u001b[39;49m\u001b[43minfl\u001b[49m\u001b[43m \u001b[49m\u001b[38;5;241;43m==\u001b[39;49m\u001b[43m \u001b[49m\u001b[38;5;241;43m2\u001b[39;49m\u001b[43m]\u001b[49m\n",
      "File \u001b[0;32m~/anaconda3/lib/python3.10/site-packages/pandas/core/indexing.py:1073\u001b[0m, in \u001b[0;36m_LocationIndexer.__getitem__\u001b[0;34m(self, key)\u001b[0m\n\u001b[1;32m   1070\u001b[0m axis \u001b[38;5;241m=\u001b[39m \u001b[38;5;28mself\u001b[39m\u001b[38;5;241m.\u001b[39maxis \u001b[38;5;129;01mor\u001b[39;00m \u001b[38;5;241m0\u001b[39m\n\u001b[1;32m   1072\u001b[0m maybe_callable \u001b[38;5;241m=\u001b[39m com\u001b[38;5;241m.\u001b[39mapply_if_callable(key, \u001b[38;5;28mself\u001b[39m\u001b[38;5;241m.\u001b[39mobj)\n\u001b[0;32m-> 1073\u001b[0m \u001b[38;5;28;01mreturn\u001b[39;00m \u001b[38;5;28;43mself\u001b[39;49m\u001b[38;5;241;43m.\u001b[39;49m\u001b[43m_getitem_axis\u001b[49m\u001b[43m(\u001b[49m\u001b[43mmaybe_callable\u001b[49m\u001b[43m,\u001b[49m\u001b[43m \u001b[49m\u001b[43maxis\u001b[49m\u001b[38;5;241;43m=\u001b[39;49m\u001b[43maxis\u001b[49m\u001b[43m)\u001b[49m\n",
      "File \u001b[0;32m~/anaconda3/lib/python3.10/site-packages/pandas/core/indexing.py:1611\u001b[0m, in \u001b[0;36m_iLocIndexer._getitem_axis\u001b[0;34m(self, key, axis)\u001b[0m\n\u001b[1;32m   1608\u001b[0m     key \u001b[38;5;241m=\u001b[39m np\u001b[38;5;241m.\u001b[39masarray(key)\n\u001b[1;32m   1610\u001b[0m \u001b[38;5;28;01mif\u001b[39;00m com\u001b[38;5;241m.\u001b[39mis_bool_indexer(key):\n\u001b[0;32m-> 1611\u001b[0m     \u001b[38;5;28;43mself\u001b[39;49m\u001b[38;5;241;43m.\u001b[39;49m\u001b[43m_validate_key\u001b[49m\u001b[43m(\u001b[49m\u001b[43mkey\u001b[49m\u001b[43m,\u001b[49m\u001b[43m \u001b[49m\u001b[43maxis\u001b[49m\u001b[43m)\u001b[49m\n\u001b[1;32m   1612\u001b[0m     \u001b[38;5;28;01mreturn\u001b[39;00m \u001b[38;5;28mself\u001b[39m\u001b[38;5;241m.\u001b[39m_getbool_axis(key, axis\u001b[38;5;241m=\u001b[39maxis)\n\u001b[1;32m   1614\u001b[0m \u001b[38;5;66;03m# a list of integers\u001b[39;00m\n",
      "File \u001b[0;32m~/anaconda3/lib/python3.10/site-packages/pandas/core/indexing.py:1457\u001b[0m, in \u001b[0;36m_iLocIndexer._validate_key\u001b[0;34m(self, key, axis)\u001b[0m\n\u001b[1;32m   1451\u001b[0m         \u001b[38;5;28;01mif\u001b[39;00m key\u001b[38;5;241m.\u001b[39mindex\u001b[38;5;241m.\u001b[39minferred_type \u001b[38;5;241m==\u001b[39m \u001b[38;5;124m\"\u001b[39m\u001b[38;5;124minteger\u001b[39m\u001b[38;5;124m\"\u001b[39m:\n\u001b[1;32m   1452\u001b[0m             \u001b[38;5;28;01mraise\u001b[39;00m \u001b[38;5;167;01mNotImplementedError\u001b[39;00m(\n\u001b[1;32m   1453\u001b[0m                 \u001b[38;5;124m\"\u001b[39m\u001b[38;5;124miLocation based boolean \u001b[39m\u001b[38;5;124m\"\u001b[39m\n\u001b[1;32m   1454\u001b[0m                 \u001b[38;5;124m\"\u001b[39m\u001b[38;5;124mindexing on an integer type \u001b[39m\u001b[38;5;124m\"\u001b[39m\n\u001b[1;32m   1455\u001b[0m                 \u001b[38;5;124m\"\u001b[39m\u001b[38;5;124mis not available\u001b[39m\u001b[38;5;124m\"\u001b[39m\n\u001b[1;32m   1456\u001b[0m             )\n\u001b[0;32m-> 1457\u001b[0m         \u001b[38;5;28;01mraise\u001b[39;00m \u001b[38;5;167;01mValueError\u001b[39;00m(\n\u001b[1;32m   1458\u001b[0m             \u001b[38;5;124m\"\u001b[39m\u001b[38;5;124miLocation based boolean indexing cannot use \u001b[39m\u001b[38;5;124m\"\u001b[39m\n\u001b[1;32m   1459\u001b[0m             \u001b[38;5;124m\"\u001b[39m\u001b[38;5;124man indexable as a mask\u001b[39m\u001b[38;5;124m\"\u001b[39m\n\u001b[1;32m   1460\u001b[0m         )\n\u001b[1;32m   1461\u001b[0m     \u001b[38;5;28;01mreturn\u001b[39;00m\n\u001b[1;32m   1463\u001b[0m \u001b[38;5;28;01mif\u001b[39;00m \u001b[38;5;28misinstance\u001b[39m(key, \u001b[38;5;28mslice\u001b[39m):\n",
      "\u001b[0;31mValueError\u001b[0m: iLocation based boolean indexing cannot use an indexable as a mask"
     ]
    }
   ],
   "source": [
    "data.iloc[data.infl == 2]"
   ]
  },
  {
   "cell_type": "code",
   "execution_count": 16,
   "id": "d39258b1-1886-445a-8b89-aa27b78364e6",
   "metadata": {
    "tags": []
   },
   "outputs": [],
   "source": [
    "data2 = pd.read_csv('world_bank_development_indicators.csv')"
   ]
  },
  {
   "cell_type": "code",
   "execution_count": 17,
   "id": "9f474a3a-e544-4ec3-8bad-aa664f808fe2",
   "metadata": {
    "tags": []
   },
   "outputs": [
    {
     "name": "stdout",
     "output_type": "stream",
     "text": [
      "<class 'pandas.core.frame.DataFrame'>\n",
      "RangeIndex: 16780 entries, 0 to 16779\n",
      "Data columns (total 50 columns):\n",
      " #   Column                                     Non-Null Count  Dtype  \n",
      "---  ------                                     --------------  -----  \n",
      " 0   country                                    16780 non-null  object \n",
      " 1   date                                       16780 non-null  object \n",
      " 2   agricultural_land%                         15298 non-null  float64\n",
      " 3   forest_land%                               7914 non-null   float64\n",
      " 4   land_area                                  15608 non-null  float64\n",
      " 5   avg_precipitation                          10086 non-null  float64\n",
      " 6   trade_in_services%                         9165 non-null   float64\n",
      " 7   control_of_corruption_estimate             4564 non-null   float64\n",
      " 8   control_of_corruption_std                  4564 non-null   float64\n",
      " 9   access_to_electricity%                     7348 non-null   float64\n",
      " 10  renewvable_energy_consumption%             8076 non-null   float64\n",
      " 11  electric_power_consumption                 7790 non-null   float64\n",
      " 12  CO2_emisions                               7408 non-null   float64\n",
      " 13  other_greenhouse_emisions                  7408 non-null   float64\n",
      " 14  population_density                         15579 non-null  float64\n",
      " 15  inflation_annual%                          10775 non-null  float64\n",
      " 16  real_interest_rate                         4397 non-null   float64\n",
      " 17  risk_premium_on_lending                    2367 non-null   float64\n",
      " 18  research_and_development_expenditure%      2776 non-null   float64\n",
      " 19  central_goverment_debt%                    2069 non-null   float64\n",
      " 20  tax_revenue%                               5079 non-null   float64\n",
      " 21  expense%                                   4733 non-null   float64\n",
      " 22  goverment_effectiveness_estimate           4540 non-null   float64\n",
      " 23  goverment_effectiveness_std                4540 non-null   float64\n",
      " 24  human_capital_index                        601 non-null    float64\n",
      " 25  doing_business                             189 non-null    float64\n",
      " 26  time_to_get_operation_license              362 non-null    float64\n",
      " 27  statistical_performance_indicators         689 non-null    float64\n",
      " 28  individuals_using_internet%                7975 non-null   float64\n",
      " 29  logistic_performance_index                 1407 non-null   float64\n",
      " 30  military_expenditure%                      9917 non-null   float64\n",
      " 31  GDP_current_US                             13365 non-null  float64\n",
      " 32  political_stability_estimate               4615 non-null   float64\n",
      " 33  political_stability_std                    4615 non-null   float64\n",
      " 34  rule_of_law_estimate                       4654 non-null   float64\n",
      " 35  rule_of_law_std                            4654 non-null   float64\n",
      " 36  regulatory_quality_estimate                4542 non-null   float64\n",
      " 37  regulatory_quality_std                     4542 non-null   float64\n",
      " 38  government_expenditure_on_education%       5951 non-null   float64\n",
      " 39  government_health_expenditure%             4938 non-null   float64\n",
      " 40  multidimensional_poverty_headcount_ratio%  494 non-null    float64\n",
      " 41  gini_index                                 1936 non-null   float64\n",
      " 42  birth_rate                                 16037 non-null  float64\n",
      " 43  death_rate                                 16019 non-null  float64\n",
      " 44  life_expectancy_at_birth                   15866 non-null  float64\n",
      " 45  population                                 16665 non-null  float64\n",
      " 46  rural_population                           16539 non-null  float64\n",
      " 47  voice_and_accountability_estimate          4648 non-null   float64\n",
      " 48  voice_and_accountability_std               4648 non-null   float64\n",
      " 49  intentional_homicides                      4209 non-null   float64\n",
      "dtypes: float64(48), object(2)\n",
      "memory usage: 6.4+ MB\n"
     ]
    }
   ],
   "source": [
    "data2.info()"
   ]
  },
  {
   "cell_type": "code",
   "execution_count": 18,
   "id": "74a75717-a3cc-4762-b6e5-caf45b818e94",
   "metadata": {
    "tags": []
   },
   "outputs": [
    {
     "data": {
      "text/html": [
       "<div>\n",
       "<style scoped>\n",
       "    .dataframe tbody tr th:only-of-type {\n",
       "        vertical-align: middle;\n",
       "    }\n",
       "\n",
       "    .dataframe tbody tr th {\n",
       "        vertical-align: top;\n",
       "    }\n",
       "\n",
       "    .dataframe thead th {\n",
       "        text-align: right;\n",
       "    }\n",
       "</style>\n",
       "<table border=\"1\" class=\"dataframe\">\n",
       "  <thead>\n",
       "    <tr style=\"text-align: right;\">\n",
       "      <th></th>\n",
       "      <th>country</th>\n",
       "      <th>date</th>\n",
       "      <th>agricultural_land%</th>\n",
       "      <th>forest_land%</th>\n",
       "      <th>land_area</th>\n",
       "      <th>avg_precipitation</th>\n",
       "      <th>trade_in_services%</th>\n",
       "      <th>control_of_corruption_estimate</th>\n",
       "      <th>control_of_corruption_std</th>\n",
       "      <th>access_to_electricity%</th>\n",
       "      <th>...</th>\n",
       "      <th>multidimensional_poverty_headcount_ratio%</th>\n",
       "      <th>gini_index</th>\n",
       "      <th>birth_rate</th>\n",
       "      <th>death_rate</th>\n",
       "      <th>life_expectancy_at_birth</th>\n",
       "      <th>population</th>\n",
       "      <th>rural_population</th>\n",
       "      <th>voice_and_accountability_estimate</th>\n",
       "      <th>voice_and_accountability_std</th>\n",
       "      <th>intentional_homicides</th>\n",
       "    </tr>\n",
       "  </thead>\n",
       "  <tbody>\n",
       "    <tr>\n",
       "      <th>0</th>\n",
       "      <td>Afghanistan</td>\n",
       "      <td>1960-01-01</td>\n",
       "      <td>NaN</td>\n",
       "      <td>NaN</td>\n",
       "      <td>NaN</td>\n",
       "      <td>NaN</td>\n",
       "      <td>NaN</td>\n",
       "      <td>NaN</td>\n",
       "      <td>NaN</td>\n",
       "      <td>NaN</td>\n",
       "      <td>...</td>\n",
       "      <td>NaN</td>\n",
       "      <td>NaN</td>\n",
       "      <td>50.340</td>\n",
       "      <td>31.921</td>\n",
       "      <td>32.535</td>\n",
       "      <td>8622466.0</td>\n",
       "      <td>7898093.0</td>\n",
       "      <td>NaN</td>\n",
       "      <td>NaN</td>\n",
       "      <td>NaN</td>\n",
       "    </tr>\n",
       "    <tr>\n",
       "      <th>1</th>\n",
       "      <td>Afghanistan</td>\n",
       "      <td>1961-01-01</td>\n",
       "      <td>57.801696</td>\n",
       "      <td>NaN</td>\n",
       "      <td>652230.0</td>\n",
       "      <td>327.0</td>\n",
       "      <td>NaN</td>\n",
       "      <td>NaN</td>\n",
       "      <td>NaN</td>\n",
       "      <td>NaN</td>\n",
       "      <td>...</td>\n",
       "      <td>NaN</td>\n",
       "      <td>NaN</td>\n",
       "      <td>50.443</td>\n",
       "      <td>31.349</td>\n",
       "      <td>33.068</td>\n",
       "      <td>8790140.0</td>\n",
       "      <td>8026804.0</td>\n",
       "      <td>NaN</td>\n",
       "      <td>NaN</td>\n",
       "      <td>NaN</td>\n",
       "    </tr>\n",
       "    <tr>\n",
       "      <th>2</th>\n",
       "      <td>Afghanistan</td>\n",
       "      <td>1962-01-01</td>\n",
       "      <td>57.893688</td>\n",
       "      <td>NaN</td>\n",
       "      <td>652230.0</td>\n",
       "      <td>327.0</td>\n",
       "      <td>NaN</td>\n",
       "      <td>NaN</td>\n",
       "      <td>NaN</td>\n",
       "      <td>NaN</td>\n",
       "      <td>...</td>\n",
       "      <td>NaN</td>\n",
       "      <td>NaN</td>\n",
       "      <td>50.570</td>\n",
       "      <td>30.845</td>\n",
       "      <td>33.547</td>\n",
       "      <td>8969047.0</td>\n",
       "      <td>8163985.0</td>\n",
       "      <td>NaN</td>\n",
       "      <td>NaN</td>\n",
       "      <td>NaN</td>\n",
       "    </tr>\n",
       "    <tr>\n",
       "      <th>3</th>\n",
       "      <td>Afghanistan</td>\n",
       "      <td>1963-01-01</td>\n",
       "      <td>57.970348</td>\n",
       "      <td>NaN</td>\n",
       "      <td>652230.0</td>\n",
       "      <td>327.0</td>\n",
       "      <td>NaN</td>\n",
       "      <td>NaN</td>\n",
       "      <td>NaN</td>\n",
       "      <td>NaN</td>\n",
       "      <td>...</td>\n",
       "      <td>NaN</td>\n",
       "      <td>NaN</td>\n",
       "      <td>50.703</td>\n",
       "      <td>30.359</td>\n",
       "      <td>34.016</td>\n",
       "      <td>9157465.0</td>\n",
       "      <td>8308019.0</td>\n",
       "      <td>NaN</td>\n",
       "      <td>NaN</td>\n",
       "      <td>NaN</td>\n",
       "    </tr>\n",
       "    <tr>\n",
       "      <th>4</th>\n",
       "      <td>Afghanistan</td>\n",
       "      <td>1964-01-01</td>\n",
       "      <td>58.066940</td>\n",
       "      <td>NaN</td>\n",
       "      <td>652230.0</td>\n",
       "      <td>327.0</td>\n",
       "      <td>NaN</td>\n",
       "      <td>NaN</td>\n",
       "      <td>NaN</td>\n",
       "      <td>NaN</td>\n",
       "      <td>...</td>\n",
       "      <td>NaN</td>\n",
       "      <td>NaN</td>\n",
       "      <td>50.831</td>\n",
       "      <td>29.867</td>\n",
       "      <td>34.494</td>\n",
       "      <td>9355514.0</td>\n",
       "      <td>8458694.0</td>\n",
       "      <td>NaN</td>\n",
       "      <td>NaN</td>\n",
       "      <td>NaN</td>\n",
       "    </tr>\n",
       "  </tbody>\n",
       "</table>\n",
       "<p>5 rows × 50 columns</p>\n",
       "</div>"
      ],
      "text/plain": [
       "       country        date  agricultural_land%  forest_land%  land_area  \\\n",
       "0  Afghanistan  1960-01-01                 NaN           NaN        NaN   \n",
       "1  Afghanistan  1961-01-01           57.801696           NaN   652230.0   \n",
       "2  Afghanistan  1962-01-01           57.893688           NaN   652230.0   \n",
       "3  Afghanistan  1963-01-01           57.970348           NaN   652230.0   \n",
       "4  Afghanistan  1964-01-01           58.066940           NaN   652230.0   \n",
       "\n",
       "   avg_precipitation  trade_in_services%  control_of_corruption_estimate  \\\n",
       "0                NaN                 NaN                             NaN   \n",
       "1              327.0                 NaN                             NaN   \n",
       "2              327.0                 NaN                             NaN   \n",
       "3              327.0                 NaN                             NaN   \n",
       "4              327.0                 NaN                             NaN   \n",
       "\n",
       "   control_of_corruption_std  access_to_electricity%  ...  \\\n",
       "0                        NaN                     NaN  ...   \n",
       "1                        NaN                     NaN  ...   \n",
       "2                        NaN                     NaN  ...   \n",
       "3                        NaN                     NaN  ...   \n",
       "4                        NaN                     NaN  ...   \n",
       "\n",
       "   multidimensional_poverty_headcount_ratio%  gini_index  birth_rate  \\\n",
       "0                                        NaN         NaN      50.340   \n",
       "1                                        NaN         NaN      50.443   \n",
       "2                                        NaN         NaN      50.570   \n",
       "3                                        NaN         NaN      50.703   \n",
       "4                                        NaN         NaN      50.831   \n",
       "\n",
       "   death_rate  life_expectancy_at_birth  population  rural_population  \\\n",
       "0      31.921                    32.535   8622466.0         7898093.0   \n",
       "1      31.349                    33.068   8790140.0         8026804.0   \n",
       "2      30.845                    33.547   8969047.0         8163985.0   \n",
       "3      30.359                    34.016   9157465.0         8308019.0   \n",
       "4      29.867                    34.494   9355514.0         8458694.0   \n",
       "\n",
       "   voice_and_accountability_estimate  voice_and_accountability_std  \\\n",
       "0                                NaN                           NaN   \n",
       "1                                NaN                           NaN   \n",
       "2                                NaN                           NaN   \n",
       "3                                NaN                           NaN   \n",
       "4                                NaN                           NaN   \n",
       "\n",
       "   intentional_homicides  \n",
       "0                    NaN  \n",
       "1                    NaN  \n",
       "2                    NaN  \n",
       "3                    NaN  \n",
       "4                    NaN  \n",
       "\n",
       "[5 rows x 50 columns]"
      ]
     },
     "execution_count": 18,
     "metadata": {},
     "output_type": "execute_result"
    }
   ],
   "source": [
    "data2.head()"
   ]
  },
  {
   "cell_type": "code",
   "execution_count": 19,
   "id": "ed9526c5-5c77-41b8-8a12-3992df3bc9a5",
   "metadata": {
    "tags": []
   },
   "outputs": [
    {
     "data": {
      "text/plain": [
       "Index(['country', 'date', 'inflation_annual%', 'real_interest_rate',\n",
       "       'risk_premium_on_lending', 'doing_business', 'GDP_current_US',\n",
       "       'gini_index'],\n",
       "      dtype='object', name='item')"
      ]
     },
     "execution_count": 19,
     "metadata": {},
     "output_type": "execute_result"
    }
   ],
   "source": [
    "columns = pd.Index(['country', 'date', 'inflation_annual%', 'real_interest_rate', 'risk_premium_on_lending', 'doing_business', 'GDP_current_US', 'gini_index'], name = 'item')\n",
    "\n",
    "columns"
   ]
  },
  {
   "cell_type": "code",
   "execution_count": 20,
   "id": "5bb3191d-6ec5-4f53-8fa0-36639f691f0b",
   "metadata": {
    "tags": []
   },
   "outputs": [
    {
     "data": {
      "text/html": [
       "<div>\n",
       "<style scoped>\n",
       "    .dataframe tbody tr th:only-of-type {\n",
       "        vertical-align: middle;\n",
       "    }\n",
       "\n",
       "    .dataframe tbody tr th {\n",
       "        vertical-align: top;\n",
       "    }\n",
       "\n",
       "    .dataframe thead th {\n",
       "        text-align: right;\n",
       "    }\n",
       "</style>\n",
       "<table border=\"1\" class=\"dataframe\">\n",
       "  <thead>\n",
       "    <tr style=\"text-align: right;\">\n",
       "      <th></th>\n",
       "      <th>country</th>\n",
       "      <th>date</th>\n",
       "      <th>agricultural_land%</th>\n",
       "      <th>forest_land%</th>\n",
       "      <th>land_area</th>\n",
       "      <th>avg_precipitation</th>\n",
       "      <th>trade_in_services%</th>\n",
       "      <th>control_of_corruption_estimate</th>\n",
       "      <th>control_of_corruption_std</th>\n",
       "      <th>access_to_electricity%</th>\n",
       "      <th>...</th>\n",
       "      <th>multidimensional_poverty_headcount_ratio%</th>\n",
       "      <th>gini_index</th>\n",
       "      <th>birth_rate</th>\n",
       "      <th>death_rate</th>\n",
       "      <th>life_expectancy_at_birth</th>\n",
       "      <th>population</th>\n",
       "      <th>rural_population</th>\n",
       "      <th>voice_and_accountability_estimate</th>\n",
       "      <th>voice_and_accountability_std</th>\n",
       "      <th>intentional_homicides</th>\n",
       "    </tr>\n",
       "  </thead>\n",
       "  <tbody>\n",
       "    <tr>\n",
       "      <th>0</th>\n",
       "      <td>Afghanistan</td>\n",
       "      <td>1960-01-01</td>\n",
       "      <td>NaN</td>\n",
       "      <td>NaN</td>\n",
       "      <td>NaN</td>\n",
       "      <td>NaN</td>\n",
       "      <td>NaN</td>\n",
       "      <td>NaN</td>\n",
       "      <td>NaN</td>\n",
       "      <td>NaN</td>\n",
       "      <td>...</td>\n",
       "      <td>NaN</td>\n",
       "      <td>NaN</td>\n",
       "      <td>50.340</td>\n",
       "      <td>31.921</td>\n",
       "      <td>32.535</td>\n",
       "      <td>8622466.0</td>\n",
       "      <td>7898093.0</td>\n",
       "      <td>NaN</td>\n",
       "      <td>NaN</td>\n",
       "      <td>NaN</td>\n",
       "    </tr>\n",
       "    <tr>\n",
       "      <th>1</th>\n",
       "      <td>Afghanistan</td>\n",
       "      <td>1961-01-01</td>\n",
       "      <td>57.801696</td>\n",
       "      <td>NaN</td>\n",
       "      <td>652230.0</td>\n",
       "      <td>327.0</td>\n",
       "      <td>NaN</td>\n",
       "      <td>NaN</td>\n",
       "      <td>NaN</td>\n",
       "      <td>NaN</td>\n",
       "      <td>...</td>\n",
       "      <td>NaN</td>\n",
       "      <td>NaN</td>\n",
       "      <td>50.443</td>\n",
       "      <td>31.349</td>\n",
       "      <td>33.068</td>\n",
       "      <td>8790140.0</td>\n",
       "      <td>8026804.0</td>\n",
       "      <td>NaN</td>\n",
       "      <td>NaN</td>\n",
       "      <td>NaN</td>\n",
       "    </tr>\n",
       "    <tr>\n",
       "      <th>2</th>\n",
       "      <td>Afghanistan</td>\n",
       "      <td>1962-01-01</td>\n",
       "      <td>57.893688</td>\n",
       "      <td>NaN</td>\n",
       "      <td>652230.0</td>\n",
       "      <td>327.0</td>\n",
       "      <td>NaN</td>\n",
       "      <td>NaN</td>\n",
       "      <td>NaN</td>\n",
       "      <td>NaN</td>\n",
       "      <td>...</td>\n",
       "      <td>NaN</td>\n",
       "      <td>NaN</td>\n",
       "      <td>50.570</td>\n",
       "      <td>30.845</td>\n",
       "      <td>33.547</td>\n",
       "      <td>8969047.0</td>\n",
       "      <td>8163985.0</td>\n",
       "      <td>NaN</td>\n",
       "      <td>NaN</td>\n",
       "      <td>NaN</td>\n",
       "    </tr>\n",
       "    <tr>\n",
       "      <th>3</th>\n",
       "      <td>Afghanistan</td>\n",
       "      <td>1963-01-01</td>\n",
       "      <td>57.970348</td>\n",
       "      <td>NaN</td>\n",
       "      <td>652230.0</td>\n",
       "      <td>327.0</td>\n",
       "      <td>NaN</td>\n",
       "      <td>NaN</td>\n",
       "      <td>NaN</td>\n",
       "      <td>NaN</td>\n",
       "      <td>...</td>\n",
       "      <td>NaN</td>\n",
       "      <td>NaN</td>\n",
       "      <td>50.703</td>\n",
       "      <td>30.359</td>\n",
       "      <td>34.016</td>\n",
       "      <td>9157465.0</td>\n",
       "      <td>8308019.0</td>\n",
       "      <td>NaN</td>\n",
       "      <td>NaN</td>\n",
       "      <td>NaN</td>\n",
       "    </tr>\n",
       "    <tr>\n",
       "      <th>4</th>\n",
       "      <td>Afghanistan</td>\n",
       "      <td>1964-01-01</td>\n",
       "      <td>58.066940</td>\n",
       "      <td>NaN</td>\n",
       "      <td>652230.0</td>\n",
       "      <td>327.0</td>\n",
       "      <td>NaN</td>\n",
       "      <td>NaN</td>\n",
       "      <td>NaN</td>\n",
       "      <td>NaN</td>\n",
       "      <td>...</td>\n",
       "      <td>NaN</td>\n",
       "      <td>NaN</td>\n",
       "      <td>50.831</td>\n",
       "      <td>29.867</td>\n",
       "      <td>34.494</td>\n",
       "      <td>9355514.0</td>\n",
       "      <td>8458694.0</td>\n",
       "      <td>NaN</td>\n",
       "      <td>NaN</td>\n",
       "      <td>NaN</td>\n",
       "    </tr>\n",
       "  </tbody>\n",
       "</table>\n",
       "<p>5 rows × 50 columns</p>\n",
       "</div>"
      ],
      "text/plain": [
       "       country        date  agricultural_land%  forest_land%  land_area  \\\n",
       "0  Afghanistan  1960-01-01                 NaN           NaN        NaN   \n",
       "1  Afghanistan  1961-01-01           57.801696           NaN   652230.0   \n",
       "2  Afghanistan  1962-01-01           57.893688           NaN   652230.0   \n",
       "3  Afghanistan  1963-01-01           57.970348           NaN   652230.0   \n",
       "4  Afghanistan  1964-01-01           58.066940           NaN   652230.0   \n",
       "\n",
       "   avg_precipitation  trade_in_services%  control_of_corruption_estimate  \\\n",
       "0                NaN                 NaN                             NaN   \n",
       "1              327.0                 NaN                             NaN   \n",
       "2              327.0                 NaN                             NaN   \n",
       "3              327.0                 NaN                             NaN   \n",
       "4              327.0                 NaN                             NaN   \n",
       "\n",
       "   control_of_corruption_std  access_to_electricity%  ...  \\\n",
       "0                        NaN                     NaN  ...   \n",
       "1                        NaN                     NaN  ...   \n",
       "2                        NaN                     NaN  ...   \n",
       "3                        NaN                     NaN  ...   \n",
       "4                        NaN                     NaN  ...   \n",
       "\n",
       "   multidimensional_poverty_headcount_ratio%  gini_index  birth_rate  \\\n",
       "0                                        NaN         NaN      50.340   \n",
       "1                                        NaN         NaN      50.443   \n",
       "2                                        NaN         NaN      50.570   \n",
       "3                                        NaN         NaN      50.703   \n",
       "4                                        NaN         NaN      50.831   \n",
       "\n",
       "   death_rate  life_expectancy_at_birth  population  rural_population  \\\n",
       "0      31.921                    32.535   8622466.0         7898093.0   \n",
       "1      31.349                    33.068   8790140.0         8026804.0   \n",
       "2      30.845                    33.547   8969047.0         8163985.0   \n",
       "3      30.359                    34.016   9157465.0         8308019.0   \n",
       "4      29.867                    34.494   9355514.0         8458694.0   \n",
       "\n",
       "   voice_and_accountability_estimate  voice_and_accountability_std  \\\n",
       "0                                NaN                           NaN   \n",
       "1                                NaN                           NaN   \n",
       "2                                NaN                           NaN   \n",
       "3                                NaN                           NaN   \n",
       "4                                NaN                           NaN   \n",
       "\n",
       "   intentional_homicides  \n",
       "0                    NaN  \n",
       "1                    NaN  \n",
       "2                    NaN  \n",
       "3                    NaN  \n",
       "4                    NaN  \n",
       "\n",
       "[5 rows x 50 columns]"
      ]
     },
     "execution_count": 20,
     "metadata": {},
     "output_type": "execute_result"
    }
   ],
   "source": [
    "data2.head()"
   ]
  },
  {
   "cell_type": "code",
   "execution_count": null,
   "id": "bfc6a41b-12d1-4699-be13-27d4f27fa2bd",
   "metadata": {},
   "outputs": [],
   "source": []
  }
 ],
 "metadata": {
  "kernelspec": {
   "display_name": "Python 3 (ipykernel)",
   "language": "python",
   "name": "python3"
  },
  "language_info": {
   "codemirror_mode": {
    "name": "ipython",
    "version": 3
   },
   "file_extension": ".py",
   "mimetype": "text/x-python",
   "name": "python",
   "nbconvert_exporter": "python",
   "pygments_lexer": "ipython3",
   "version": "3.10.11"
  }
 },
 "nbformat": 4,
 "nbformat_minor": 5
}
